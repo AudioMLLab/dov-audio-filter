{
 "cells": [
  {
   "cell_type": "code",
   "execution_count": 2,
   "metadata": {},
   "outputs": [],
   "source": [
    "import numpy as np\n",
    "import os\n",
    "import librosa\n",
    "import librosa.display\n",
    "from IPython import display\n",
    "from matplotlib import pyplot\n",
    "\n",
    "from sklearn.tree import ExtraTreeClassifier"
   ]
  },
  {
   "cell_type": "code",
   "execution_count": 3,
   "metadata": {},
   "outputs": [],
   "source": [
    "# A simple wrapper class for (1-channel) audio data\n",
    "# data is a 1-D NumPy array containing the data\n",
    "# rate is a number expressing the samples per second\n",
    "class Audio:\n",
    "    def __init__(self, data, rate):\n",
    "        self.data = data\n",
    "        self.rate = rate\n",
    "    def play(self):\n",
    "        return display.Audio(self.data, rate=self.rate)\n",
    "    def plot_wave(self):\n",
    "        librosa.display.waveplot(self.data, sr=self.rate)\n",
    "    def plot_spectrum(self):\n",
    "        n_fft = int(self.rate / 20)\n",
    "        D = librosa.amplitude_to_db(np.abs(librosa.stft(self.data, n_fft)), ref=np.max)\n",
    "        librosa.display.specshow(D, y_axis='linear', sr=self.rate, hop_length=n_fft/4)\n",
    "    @classmethod\n",
    "    def fromfile(cls, fn):\n",
    "        return cls(*librosa.load(fn, sr=None))"
   ]
  },
  {
   "cell_type": "code",
   "execution_count": 4,
   "metadata": {},
   "outputs": [],
   "source": [
    "datasubdir = 'data/'\n",
    "datadir = os.path.join(os.path.abspath('.'), datasubdir)"
   ]
  },
  {
   "cell_type": "code",
   "execution_count": 5,
   "metadata": {},
   "outputs": [
    {
     "name": "stdout",
     "output_type": "stream",
     "text": [
      "/home/em/school/cpsc554x/proj/data/s1/s1_downstairs_nowall_trial1/A0_1_0\n",
      "['recording1_0_2.wav', 'recording0_225_4.wav', 'recording1_135_5.wav', 'recording1_180_1.wav', 'recording1_135_0.wav', 'recording1_90_5.wav', 'recording1_45_0.wav', 'recording0_90_0.wav', 'recording1_45_1.wav', 'recording1_270_4.wav', 'recording1_315_0.wav', 'recording1_0_3.wav', 'recording1_135_2.wav', 'recording0_45_2.wav', 'recording1_225_0.wav', 'recording1_135_4.wav', 'recording0_225_1.wav', 'recording0_315_3.wav', 'recording1_45_3.wav', 'recording0_135_0.wav', 'recording1_0_4.wav', 'recording0_90_1.wav', 'recording0_315_4.wav', 'recording0_270_5.wav', 'recording1_180_5.wav', 'recording1_180_4.wav', 'recording0_0_2.wav', 'recording0_270_2.wav', 'recording0_225_2.wav', 'recording0_0_5.wav', 'recording0_225_3.wav', 'recording0_0_4.wav', 'recording0_270_3.wav', 'recording1_225_2.wav', 'recording1_90_1.wav', 'recording0_315_2.wav', 'recording0_225_0.wav', 'recording1_90_2.wav', 'recording1_90_3.wav', 'recording0_0_3.wav', 'recording1_315_4.wav', 'recording1_315_5.wav', 'recording1_180_2.wav', 'recording0_135_5.wav', 'recording1_135_1.wav', 'recording0_45_4.wav', 'recording0_90_5.wav', 'recording0_180_4.wav', 'recording1_270_5.wav', 'recording1_45_2.wav', 'recording1_135_3.wav', 'recording0_180_3.wav', 'recording1_45_4.wav', 'recording0_45_1.wav', 'recording0_315_1.wav', 'recording1_0_5.wav', 'recording0_225_5.wav', 'recording0_45_3.wav', 'recording1_90_0.wav', 'recording1_225_1.wav', 'recording1_315_2.wav', 'recording1_225_3.wav', 'recording0_135_3.wav', 'recording1_315_1.wav', 'recording0_90_4.wav', 'recording0_90_2.wav', 'recording1_225_5.wav', 'recording0_180_2.wav', 'recording0_180_5.wav', 'recording0_315_0.wav', 'recording0_270_0.wav', 'recording0_135_2.wav', 'recording0_315_5.wav', 'recording0_135_4.wav', 'recording1_270_1.wav', 'recording0_135_1.wav', 'recording0_0_1.wav', 'recording0_180_0.wav', 'recording1_180_0.wav', 'recording0_270_1.wav', 'recording1_180_3.wav', 'recording0_45_5.wav', 'recording0_45_0.wav', 'recording0_0_0.wav', 'recording1_270_2.wav', 'recording0_180_1.wav', 'recording1_90_4.wav', 'recording1_0_1.wav', 'recording0_270_4.wav', 'recording1_270_0.wav', 'recording1_0_0.wav', 'recording1_45_5.wav', 'recording1_315_3.wav', 'recording1_225_4.wav', 'recording1_270_3.wav', 'recording0_90_3.wav']\n"
     ]
    }
   ],
   "source": [
    "subject_names = ['s'+str(i) for i in range(1,10+1)]\n",
    "trial_names = ['downstairs_nowall', 'downstairs_wall', 'upstairs_nowall', 'upstairs_wall']\n",
    "trial_names = [os.path.join(s, s + '_' + i+'_'+j) \n",
    "               for s in subject_names\n",
    "               for i in trial_names \n",
    "               for j in ['trial1', 'trial2']]\n",
    "angle_names = [alph[0] + num[0] + '_' + alph[1] + '_' + num[1]  \n",
    "               for alph in [('A', '1'), ('B', '3'), ('C', '5')]\n",
    "               for num in [(str(i),str(45*i)) for i in range(3)]]\n",
    "recording_paths = [os.path.join(datadir, t,a) for t in trial_names \n",
    "                                              for a in angle_names]\n",
    "\n",
    "files_of_interest = []\n",
    "print(recording_paths[0])\n",
    "print(os.listdir(recording_paths[0]))"
   ]
  },
  {
   "cell_type": "code",
   "execution_count": 44,
   "metadata": {},
   "outputs": [],
   "source": [
    "# Credit to Yihui Xiong, 2017, https://github.com/xiongyihui/tdoa/blob/master/gcc_phat.py\n",
    "\n",
    "def gcc_phat(sig, refsig, fs=1, max_tau=None, interp=16):\n",
    "    '''\n",
    "    This function computes the offset between the signal sig and the reference signal refsig\n",
    "    using the Generalized Cross Correlation - Phase Transform (GCC-PHAT)method.\n",
    "    '''\n",
    "    \n",
    "    # make sure the length for the FFT is larger or equal than len(sig) + len(refsig)\n",
    "    n = sig.shape[0] + refsig.shape[0]\n",
    "\n",
    "    # Generalized Cross Correlation Phase Transform\n",
    "    SIG = np.fft.rfft(sig, n=n)\n",
    "    REFSIG = np.fft.rfft(refsig, n=n)\n",
    "    R = SIG * np.conj(REFSIG)\n",
    "\n",
    "    cc = np.fft.irfft(R / np.abs(R), n=(interp * n))\n",
    "\n",
    "    max_shift = int(interp * n / 2)\n",
    "    if max_tau:\n",
    "        max_shift = np.minimum(int(interp * fs * max_tau), max_shift)\n",
    "\n",
    "    cc = np.concatenate((cc[-max_shift:], cc[:max_shift+1]))\n",
    "\n",
    "    # find max cross correlation index\n",
    "    shift = np.argmax(np.abs(cc)) - max_shift\n",
    "\n",
    "    tau = shift / float(interp * fs)\n",
    "    \n",
    "    return tau, cc"
   ]
  },
  {
   "cell_type": "code",
   "execution_count": 45,
   "metadata": {},
   "outputs": [
    {
     "data": {
      "text/plain": [
       "[(0.0,\n",
       "  array([-1.26317163e-19, -8.10165381e-21,  1.11763753e-19,  0.00000000e+00,\n",
       "         -1.21853820e-19, -6.70326821e-20,  2.50697252e-19,  7.09138315e-21,\n",
       "         -1.39493290e-19, -1.88278017e-19, -1.07812439e-19,  1.00000000e+00,\n",
       "         -1.07812439e-19, -1.88278017e-19, -1.39493290e-19,  7.09138315e-21,\n",
       "          2.50697252e-19, -6.70326821e-20, -1.21853820e-19,  0.00000000e+00,\n",
       "          1.11763753e-19, -8.10165381e-21, -1.26317163e-19])),\n",
       " (0.0,\n",
       "  array([ 3.54618724e-04,  2.44678663e-04, -3.41077198e-02, -3.99099257e-04,\n",
       "          9.50074267e-04,  2.26418727e-02,  1.29579757e-03,  6.10223740e-04,\n",
       "         -4.56996063e-02,  3.37222000e-04,  1.31443157e-03,  8.61144250e-01,\n",
       "          1.46116978e-03,  1.16592945e-04,  1.13376184e-01,  1.77618272e-04,\n",
       "          1.28652558e-03, -3.84179156e-02,  1.16820942e-03,  7.57679216e-04,\n",
       "          4.59789681e-02,  3.94526782e-04,  5.78969692e-04])),\n",
       " (-0.000125,\n",
       "  array([ 3.35212767e-04,  3.21843571e-05, -2.73365329e-01,  5.50479286e-04,\n",
       "          9.52598081e-04,  5.06430245e-01,  1.14553741e-03, -1.93749244e-04,\n",
       "          4.85786550e-01,  6.98600698e-04,  9.62627868e-04, -1.19772535e-01,\n",
       "          4.99850106e-04,  6.81220870e-04,  1.75471393e-01,  1.15241850e-03,\n",
       "          4.92088806e-04, -3.18445451e-02,  6.97872167e-04,  6.27334275e-05,\n",
       "          7.74524532e-02,  5.48603345e-04,  7.09775432e-04])),\n",
       " (-0.000125,\n",
       "  array([ 5.40910895e-04,  5.30993422e-04, -2.72733349e-01,  6.49834596e-04,\n",
       "          2.00406446e-04,  5.92068884e-01,  1.07623659e-03,  9.99637139e-04,\n",
       "          4.07965551e-01,  1.21038584e-03,  8.09417420e-04, -6.41206080e-02,\n",
       "          1.00011962e-03,  1.34246246e-03,  1.53929409e-01,  1.04259256e-03,\n",
       "          7.65614319e-04, -2.94136155e-02,  1.24740783e-03,  4.77857280e-04,\n",
       "          5.32888108e-02,  6.14551105e-04,  5.36512847e-04])),\n",
       " (0.0,\n",
       "  array([-2.70205516e-19, -9.46108142e-20, -4.42753907e-21,  0.00000000e+00,\n",
       "         -1.07529488e-19,  7.06584316e-20, -1.79072149e-19,  1.47681592e-21,\n",
       "         -8.76049771e-20,  3.06964749e-20,  7.97784912e-20,  1.00000000e+00,\n",
       "          7.97784912e-20,  3.06964749e-20, -8.76049771e-20,  1.47681592e-21,\n",
       "         -1.79072149e-19,  7.06584316e-20, -1.07529488e-19,  0.00000000e+00,\n",
       "         -4.42753907e-21, -9.46108142e-20, -2.70205516e-19])),\n",
       " (-0.000125,\n",
       "  array([ 2.41920344e-04,  3.74859791e-04, -2.78361847e-01, -1.82984712e-05,\n",
       "          4.03886433e-04,  6.04942808e-01,  7.61653777e-04,  6.42146022e-05,\n",
       "          4.13735576e-01,  3.39910096e-04,  8.79125203e-04, -7.89848908e-02,\n",
       "          1.10841196e-03,  9.11187134e-05,  1.57543264e-01,  1.01214714e-03,\n",
       "         -3.75925354e-05, -2.81564838e-02,  1.00762013e-03, -2.48392404e-04,\n",
       "          6.48070316e-02,  4.64278373e-04,  6.40642893e-04])),\n",
       " (-0.000125,\n",
       "  array([ 8.46226040e-04,  7.51230303e-04, -2.70793457e-01,  1.01255457e-03,\n",
       "         -1.69550194e-04,  6.75268225e-01,  9.74153548e-04,  1.07723413e-03,\n",
       "          3.24797763e-01,  1.08086571e-03,  6.54069553e-04, -5.36354883e-02,\n",
       "          1.13107966e-03,  5.62627005e-04,  1.12801236e-01,  1.28685496e-03,\n",
       "         -1.43478657e-04, -3.39496389e-02,  9.65975733e-04,  3.53742909e-04,\n",
       "          5.75556838e-02,  6.36917165e-04,  8.06139166e-05])),\n",
       " (0.0,\n",
       "  array([ 7.74570603e-20, -6.76494227e-20, -8.44685067e-20,  0.00000000e+00,\n",
       "          2.30656779e-20,  1.08943598e-19,  2.28478428e-20, -8.40491197e-21,\n",
       "         -1.93211475e-19,  2.60631979e-20, -1.03598490e-20,  1.00000000e+00,\n",
       "         -1.03598490e-20,  2.60631979e-20, -1.93211475e-19, -8.40491197e-21,\n",
       "          2.28478428e-20,  1.08943598e-19,  2.30656779e-20,  0.00000000e+00,\n",
       "         -8.44685067e-20, -6.76494227e-20,  7.74570603e-20])),\n",
       " (0.0,\n",
       "  array([ 8.27990344e-04,  9.99598500e-05,  5.74248049e-02,  7.44263311e-04,\n",
       "          1.53083818e-03, -5.54701045e-02,  1.29467617e-03,  1.50956219e-04,\n",
       "          9.88516621e-02,  8.10585324e-04,  1.50651738e-03,  8.80458317e-01,\n",
       "          1.36803694e-03,  1.70864229e-04, -5.04008725e-02,  6.52282525e-04,\n",
       "          9.66377817e-04,  1.71362275e-02,  9.17910468e-04, -2.59350042e-04,\n",
       "         -3.54915151e-02,  4.43246036e-04,  7.69313474e-04])),\n",
       " (0.0,\n",
       "  array([-7.30494289e-20, -8.04088775e-20,  1.01361977e-20,  0.00000000e+00,\n",
       "         -6.01751219e-20, -6.52898786e-20, -1.77976196e-19,  1.26341138e-20,\n",
       "          2.06556482e-19, -2.72446533e-20,  1.06122819e-19,  1.00000000e+00,\n",
       "          1.06122819e-19, -2.72446533e-20,  2.06556482e-19,  1.26341138e-20,\n",
       "         -1.77976196e-19, -6.52898786e-20, -6.01751219e-20,  0.00000000e+00,\n",
       "          1.01361977e-20, -8.04088775e-20, -7.30494289e-20]))]"
      ]
     },
     "execution_count": 45,
     "metadata": {},
     "output_type": "execute_result"
    }
   ],
   "source": [
    "recordings_of_interest = [os.path.join(recording_paths[0], f'recording0_45_{i}.wav') for i in range(1,5)]\n",
    "audio_files = [Audio.fromfile(r) for r in recordings_of_interest]\n",
    "four_channels = [a.data for a in audio_files]\n",
    "gcc_phat_data = [gcc_phat(four_channels[i],four_channels[j], fs = audio_files[0].rate, max_tau=0.236 * 1e-3, interp=1)\n",
    "     for i in range(len(four_channels))\n",
    "     for j in range(i,len(four_channels))]\n",
    "gcc_phat_data"
   ]
  },
  {
   "cell_type": "code",
   "execution_count": 53,
   "metadata": {},
   "outputs": [
    {
     "data": {
      "image/png": "[encoded data removed]",
      "text/plain": [
       "<Figure size 432x288 with 1 Axes>"
      ]
     },
     "metadata": {
      "needs_background": "light"
     },
     "output_type": "display_data"
    }
   ],
   "source": [
    "for i in range(len(gcc_phat_data)):\n",
    "    pyplot.plot(gcc_phat_data[i][1])\n"
   ]
  },
  {
   "cell_type": "code",
   "execution_count": 50,
   "metadata": {},
   "outputs": [],
   "source": [
    "recordings_of_interest_0 = [os.path.join(recording_paths[0], f'recording0_0_{i}.wav') for i in range(1,5)]\n",
    "audio_files_0 = [Audio.fromfile(r) for r in recordings_of_interest_0]\n",
    "four_channels_0 = [a.data for a in audio_files_0]\n",
    "gcc_phat_data_0 = [gcc_phat(four_channels_0[i],four_channels_0[j], fs = audio_files_0[0].rate, max_tau=0.236 * 1e-3, interp=1)\n",
    "     for i in range(len(four_channels_0))\n",
    "     for j in range(i,len(four_channels_0))]"
   ]
  },
  {
   "cell_type": "code",
   "execution_count": 51,
   "metadata": {},
   "outputs": [
    {
     "data": {
      "text/plain": [
       "[(0.0,\n",
       "  array([ 1.44883252e-18, -5.13170744e-19, -1.14694628e-18,  7.21964444e-18,\n",
       "          6.29475033e-20, -2.99203349e-18, -2.19342461e-19,  1.16004444e-18,\n",
       "         -2.65619667e-19, -2.03179257e-18,  7.09890631e-19,  1.00000000e+00,\n",
       "         -2.82919798e-19,  1.12868164e-18,  1.64627372e-18, -1.55507762e-19,\n",
       "          9.09820776e-19, -2.48243829e-18,  1.01181435e-18,  4.91988580e-18,\n",
       "          7.38865636e-19, -1.18759619e-18, -5.90915011e-19])),\n",
       " (0.0,\n",
       "  array([ 3.57187443e-05,  5.41789136e-04,  2.99801006e-03,  7.25810906e-06,\n",
       "          9.44850351e-04, -3.79142045e-02,  4.26816705e-04,  1.21916741e-03,\n",
       "          7.12702144e-02,  8.08592473e-04,  1.05105719e-03,  9.18024305e-01,\n",
       "          5.61639890e-04, -1.95059165e-04, -7.84219084e-02,  8.00108965e-04,\n",
       "          9.52148386e-04,  4.25999057e-02,  5.01540978e-04,  8.31545510e-04,\n",
       "          1.68856896e-03,  1.71443576e-04,  9.97336054e-04])),\n",
       " (-0.000125,\n",
       "  array([-7.65754232e-05,  1.08640553e-03, -2.93051891e-01,  1.71852673e-04,\n",
       "          1.59895666e-03,  6.87841124e-01,  2.46001224e-04,  4.95833979e-05,\n",
       "          3.23073502e-01,  5.00491923e-04,  7.79473218e-04, -8.14390040e-02,\n",
       "          2.11488162e-04,  4.16675693e-04,  1.65919080e-01, -3.46111098e-05,\n",
       "          3.71477405e-04, -5.02306784e-02,  4.20039120e-04,  4.80110279e-04,\n",
       "          4.32031259e-02,  1.48616638e-04,  9.77155913e-04])),\n",
       " (-0.000125,\n",
       "  array([-2.62587977e-04,  2.06462012e-03, -2.93826914e-01,  1.71395879e-04,\n",
       "          2.01113675e-03,  6.15828245e-01,  1.52777131e-04,  7.41744771e-04,\n",
       "          4.21093195e-01,  2.24968780e-04,  9.67283901e-04, -1.07653596e-01,\n",
       "         -1.60129680e-04,  1.44128450e-03,  1.93260907e-01, -7.11543082e-05,\n",
       "          9.15461286e-04, -3.91353145e-02,  5.05855201e-04,  7.20478911e-04,\n",
       "          4.62949172e-02,  2.92133663e-04,  9.34674894e-04])),\n",
       " (0.0,\n",
       "  array([ 1.36520970e-18, -7.44514001e-19, -3.78046700e-19,  8.94803945e-18,\n",
       "          1.29955861e-19, -2.60769958e-18, -6.46516203e-19,  2.28835626e-18,\n",
       "          1.13661486e-18, -1.51194126e-18,  1.90588153e-18,  1.00000000e+00,\n",
       "          1.73894553e-18,  5.55601567e-19,  2.91764431e-19, -4.76348477e-19,\n",
       "          1.39116500e-18, -2.30977105e-18,  1.70438125e-18,  5.94615491e-18,\n",
       "          5.91915529e-19, -1.42918147e-18, -1.89398788e-19])),\n",
       " (-0.000125,\n",
       "  array([ 4.93377457e-04,  1.20223800e-03, -3.09320237e-01,  3.16299621e-04,\n",
       "          1.56149323e-03,  6.28282489e-01,  6.77050326e-04,  7.13894696e-04,\n",
       "          4.32541929e-01,  5.49911790e-04,  1.60359432e-03, -9.17623164e-02,\n",
       "          3.58562687e-04,  1.03838456e-03,  1.60748384e-01,  7.65117442e-05,\n",
       "          7.77915164e-04, -4.93031159e-02,  2.82410511e-04,  7.72474920e-04,\n",
       "          4.95187009e-02, -1.24589181e-04,  9.76426832e-04])),\n",
       " (-0.000125,\n",
       "  array([ 6.02222664e-04,  1.29025583e-03, -3.00545201e-01,  2.09979908e-04,\n",
       "          9.59968738e-04,  5.37418049e-01,  4.93176774e-04,  5.38848910e-04,\n",
       "          5.08538511e-01,  3.78739807e-04,  4.61578494e-04, -1.29960686e-01,\n",
       "          2.36078171e-04,  8.71861958e-04,  1.63793846e-01,  7.07617695e-04,\n",
       "          6.99644413e-04, -5.21178057e-02,  8.40874930e-04,  1.69997257e-04,\n",
       "          6.01569485e-02,  1.01925893e-03,  3.30849137e-04])),\n",
       " (0.0,\n",
       "  array([ 7.08137579e-19, -1.05799416e-19, -1.33963381e-18,  9.81127228e-18,\n",
       "          5.87750998e-19, -2.92118951e-18, -4.97934936e-19,  7.56057040e-19,\n",
       "          7.21005576e-19, -7.82985400e-19,  8.23613579e-19,  1.00000000e+00,\n",
       "          1.02061232e-18,  1.37364168e-18,  2.44517467e-18, -1.29563802e-18,\n",
       "          1.31966541e-18, -2.82118537e-18,  1.40085252e-18,  4.95614694e-18,\n",
       "          4.48611676e-19, -1.11410002e-18, -9.18952298e-19])),\n",
       " (0.0,\n",
       "  array([ 7.12836168e-04,  9.01419779e-04, -2.03037470e-02,  2.62106786e-05,\n",
       "          1.48279305e-03,  4.28878772e-02,  6.64588006e-04,  1.30226037e-03,\n",
       "         -7.24052202e-02,  1.23201448e-04,  1.48622569e-03,  9.23388193e-01,\n",
       "          1.99716350e-04,  8.73704083e-04,  5.79024753e-02,  1.14098466e-05,\n",
       "          1.54098159e-03, -5.23478161e-02,  4.02719738e-04,  8.48581736e-04,\n",
       "          2.36505357e-02,  4.84036763e-05,  1.16264272e-03])),\n",
       " (0.0,\n",
       "  array([ 1.21486457e-18, -5.72252882e-19, -2.71051169e-19,  8.97658042e-18,\n",
       "          7.41311031e-21, -3.27261533e-18, -9.68814864e-19,  2.69538711e-18,\n",
       "          2.16176093e-19, -9.88554957e-19,  1.30450857e-18,  1.00000000e+00,\n",
       "         -7.79437029e-20,  2.25448363e-18,  8.05348445e-19,  5.92055418e-19,\n",
       "          7.90303618e-19, -1.53833115e-18,  4.86468670e-19,  3.99234818e-18,\n",
       "          3.46712551e-19,  9.65541134e-20, -1.96107753e-19]))]"
      ]
     },
     "execution_count": 51,
     "metadata": {},
     "output_type": "execute_result"
    }
   ],
   "source": [
    "gcc_phat_data_0"
   ]
  },
  {
   "cell_type": "code",
   "execution_count": 55,
   "metadata": {},
   "outputs": [
    {
     "data": {
      "image/png": "[encoded data removed]",
      "text/plain": [
       "<Figure size 432x288 with 1 Axes>"
      ]
     },
     "metadata": {
      "needs_background": "light"
     },
     "output_type": "display_data"
    }
   ],
   "source": [
    "for i in range(len(gcc_phat_data_0)):\n",
    "    pyplot.plot(gcc_phat_data_0[i][1])"
   ]
  },
  {
   "cell_type": "code",
   "execution_count": 17,
   "metadata": {},
   "outputs": [
    {
     "data": {
      "text/plain": [
       "[42864, 42864, 42864, 42864]"
      ]
     },
     "execution_count": 17,
     "metadata": {},
     "output_type": "execute_result"
    }
   ],
   "source": [
    "[four_channels[i].size for i in range(len(four_channels))]"
   ]
  },
  {
   "cell_type": "code",
   "execution_count": 21,
   "metadata": {},
   "outputs": [
    {
     "data": {
      "text/plain": [
       "48000"
      ]
     },
     "execution_count": 21,
     "metadata": {},
     "output_type": "execute_result"
    }
   ],
   "source": [
    "audio_files_0[0].rate"
   ]
  },
  {
   "cell_type": "code",
   "execution_count": null,
   "metadata": {},
   "outputs": [],
   "source": [
    "# we want: \n",
    "# - raw GCC output (cropped +- 0.236ms)\n",
    "# - max peak value\n",
    "# - max peak index (which is the TDOA)\n",
    "# - area under the curve"
   ]
  }
 ],
 "metadata": {
  "kernelspec": {
   "display_name": "Python 3",
   "language": "python",
   "name": "python3"
  },
  "language_info": {
   "codemirror_mode": {
    "name": "ipython",
    "version": 3
   },
   "file_extension": ".py",
   "mimetype": "text/x-python",
   "name": "python",
   "nbconvert_exporter": "python",
   "pygments_lexer": "ipython3",
   "version": "3.7.5"
  }
 },
 "nbformat": 4,
 "nbformat_minor": 4
}
